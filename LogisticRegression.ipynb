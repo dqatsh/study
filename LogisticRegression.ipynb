{
 "cells": [
  {
   "cell_type": "code",
   "execution_count": 1,
   "metadata": {},
   "outputs": [],
   "source": [
    "# logistic回归\n",
    "# 实现二分类"
   ]
  },
  {
   "cell_type": "code",
   "execution_count": 2,
   "metadata": {},
   "outputs": [],
   "source": [
    "import torch\n",
    "import numpy as np\n",
    "import matplotlib.pyplot as plt"
   ]
  },
  {
   "cell_type": "code",
   "execution_count": 3,
   "metadata": {},
   "outputs": [],
   "source": [
    "# 生成分类数据\n",
    "# 分类0\n",
    "d1 = torch.normal(-1,1,size=(100,1))\n",
    "d2 = torch.normal(-2,1,size=(100,1))\n",
    "x0 = torch.cat((d1,d2), dim=1)\n",
    "y0 = torch.zeros((100,))\n",
    "\n",
    "# 分类1\n",
    "d1 = torch.normal(1,1,size=(100,1))\n",
    "d2 = torch.normal(2,1,size=(100,1))\n",
    "x1 = torch.cat((d1,d2), dim=1)\n",
    "y1 = torch.ones((100,))"
   ]
  },
  {
   "cell_type": "code",
   "execution_count": 4,
   "metadata": {},
   "outputs": [
    {
     "data": {
      "image/png": "[encoded data removed]",
      "text/plain": [
       "<Figure size 432x288 with 1 Axes>"
      ]
     },
     "metadata": {
      "needs_background": "light"
     },
     "output_type": "display_data"
    }
   ],
   "source": [
    "plt.scatter(x0[:,0], x0[:,1], c='r')\n",
    "plt.scatter(x1[:,0], x1[:,1], c='b')\n",
    "plt.show()"
   ]
  },
  {
   "cell_type": "code",
   "execution_count": 5,
   "metadata": {},
   "outputs": [],
   "source": [
    "# 合并两个分类的数据组成训练集\n",
    "train_x = torch.cat((x0,x1), dim=0)\n",
    "train_y = torch.cat((y0,y1), dim=0)"
   ]
  },
  {
   "cell_type": "code",
   "execution_count": 6,
   "metadata": {},
   "outputs": [],
   "source": [
    "import torch.nn as nn"
   ]
  },
  {
   "cell_type": "code",
   "execution_count": 7,
   "metadata": {},
   "outputs": [],
   "source": [
    "class LR(nn.Module):\n",
    "    def __init__(self):\n",
    "        super(LR, self).__init__()\n",
    "        self.features = nn.Linear(2,1) # 线性层\n",
    "        self.sigmoid = nn.Sigmoid()\n",
    "        \n",
    "    def forward(self, x):\n",
    "        x = self.features(x)\n",
    "        x = self.sigmoid(x)\n",
    "        return x"
   ]
  },
  {
   "cell_type": "code",
   "execution_count": 8,
   "metadata": {},
   "outputs": [
    {
     "name": "stdout",
     "output_type": "stream",
     "text": [
      "i: 50\n",
      "correct: 199\n"
     ]
    },
    {
     "data": {
      "text/plain": [
       "(50, Parameter containing:\n",
       " tensor([[0.7939, 1.3964]], requires_grad=True), Parameter containing:\n",
       " tensor([-0.2837], requires_grad=True))"
      ]
     },
     "execution_count": 8,
     "metadata": {},
     "output_type": "execute_result"
    }
   ],
   "source": [
    "_loss = 1000\n",
    "lr_net = LR()\n",
    "loss_fn = nn.BCELoss()\n",
    "lr = 0.01\n",
    "optimizer = torch.optim.SGD(lr_net.parameters(), lr=lr, momentum=0.9)\n",
    "for i in range(1000):\n",
    "    y_pred = lr_net(train_x)\n",
    "    loss = loss_fn(y_pred.squeeze(), train_y)\n",
    "    loss.backward()\n",
    "    optimizer.step()\n",
    "    optimizer.zero_grad()\n",
    "    if abs(_loss-loss)<0.001:\n",
    "        break\n",
    "    _loss = loss\n",
    "    correct = (y_pred.squeeze().ge(0.5).float() == train_y).sum()\n",
    "print(\"i:\", i)\n",
    "print(\"correct:\", correct.item())\n",
    "    \n",
    "i,lr_net.features.weight, lr_net.features.bias"
   ]
  },
  {
   "cell_type": "code",
   "execution_count": 9,
   "metadata": {},
   "outputs": [],
   "source": [
    "# 生成分界线数据\n",
    "# (w0*x0 + w1*x1 +b) = 0\n",
    "# x1 = -(b + w0*x0)/w1\n",
    "lx = torch.linspace(-6,6,121)\n",
    "ly = -(lr_net.features.bias+lr_net.features.weight[0][0]*lx)/lr_net.features.weight[0][1]"
   ]
  },
  {
   "cell_type": "code",
   "execution_count": 10,
   "metadata": {},
   "outputs": [
    {
     "data": {
      "image/png": "[encoded data removed]",
      "text/plain": [
       "<Figure size 432x288 with 1 Axes>"
      ]
     },
     "metadata": {
      "needs_background": "light"
     },
     "output_type": "display_data"
    }
   ],
   "source": [
    "plt.plot(lx, ly.detach())\n",
    "plt.scatter(x0[:,0], x0[:,1], c='r')\n",
    "plt.scatter(x1[:,0], x1[:,1], c='b')\n",
    "plt.show()"
   ]
  },
  {
   "cell_type": "code",
   "execution_count": null,
   "metadata": {},
   "outputs": [],
   "source": []
  }
 ],
 "metadata": {
  "kernelspec": {
   "display_name": "Python 3",
   "language": "python",
   "name": "python3"
  },
  "language_info": {
   "codemirror_mode": {
    "name": "ipython",
    "version": 3
   },
   "file_extension": ".py",
   "mimetype": "text/x-python",
   "name": "python",
   "nbconvert_exporter": "python",
   "pygments_lexer": "ipython3",
   "version": "3.7.5"
  }
 },
 "nbformat": 4,
 "nbformat_minor": 4
}
